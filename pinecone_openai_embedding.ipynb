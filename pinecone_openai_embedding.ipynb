{
 "cells": [
  {
   "cell_type": "markdown",
   "metadata": {},
   "source": [
    "# How to Embed Data into Pinecone using OpenAI"
   ]
  },
  {
   "cell_type": "markdown",
   "metadata": {},
   "source": [
    "## Obtaining API keys from keys.txt file and writing them to OS environment variables."
   ]
  },
  {
   "cell_type": "code",
   "execution_count": 7,
   "metadata": {},
   "outputs": [],
   "source": [
    "import os\n",
    "\n",
    "def set_env_variables_from_file(file_path):\n",
    "    with open(file_path, 'r') as file:\n",
    "        for line in file:\n",
    "            key, value = line.strip().split('=')\n",
    "            os.environ[key] = value"
   ]
  },
  {
   "cell_type": "code",
   "execution_count": 8,
   "metadata": {},
   "outputs": [],
   "source": [
    "set_env_variables_from_file('keys.txt')"
   ]
  },
  {
   "cell_type": "markdown",
   "metadata": {},
   "source": [
    "## Obtaining API keys from user's input and writing them to OS environment variables."
   ]
  },
  {
   "cell_type": "code",
   "execution_count": null,
   "metadata": {},
   "outputs": [],
   "source": [
    "import os\n",
    "import getpass"
   ]
  },
  {
   "cell_type": "code",
   "execution_count": null,
   "metadata": {},
   "outputs": [],
   "source": [
    "os.environ[\"PINECONE_API_KEY\"] = getpass.getpass(\"Pinecone API Key:\")\n",
    "os.environ[\"PINECONE_ENV\"] = getpass.getpass(\"Pinecone Environment:\")\n",
    "os.environ[\"OPENAI_API_KEY\"] = getpass.getpass(\"OpenAI API Key:\")"
   ]
  },
  {
   "cell_type": "markdown",
   "metadata": {},
   "source": [
    "## Loading documents."
   ]
  },
  {
   "cell_type": "code",
   "execution_count": null,
   "metadata": {},
   "outputs": [],
   "source": [
    "from langchain.text_splitter import RecursiveCharacterTextSplitter"
   ]
  },
  {
   "cell_type": "markdown",
   "metadata": {},
   "source": [
    "### The following code will load and split to chunks one single text file. "
   ]
  },
  {
   "cell_type": "code",
   "execution_count": null,
   "metadata": {},
   "outputs": [],
   "source": [
    "\n",
    "loader = TextLoader(\"transcripts.txt\")\n",
    "documents = loader.load()\n",
    "\n",
    "length_function = len\n",
    "\n",
    "# The default list of split characters is [\\n\\n, \\n, \" \", \"\"]\n",
    "# Tries to split on them in order until the chunks are small enough\n",
    "# Keep paragraphs, sentences, words together as long as possible\n",
    "splitter = RecursiveCharacterTextSplitter(\n",
    "    separators=[\"\\n\\n\", \"\\n\", \" \", \"\"],\n",
    "    chunk_size=1000, \n",
    "    chunk_overlap=100,\n",
    "    length_function=length_function,\n",
    ")\n",
    "\n",
    "docs = splitter.split_documents(documents)"
   ]
  },
  {
   "cell_type": "markdown",
   "metadata": {},
   "source": [
    "### The following code will load and split to chunks all text files in a specified derictory.\n",
    "#### Text loader autodetects file encoding to avoid errors. "
   ]
  },
  {
   "cell_type": "code",
   "execution_count": 38,
   "metadata": {},
   "outputs": [],
   "source": [
    "from langchain.document_loaders import DirectoryLoader\n",
    "from langchain.document_loaders import TextLoader\n",
    "from langchain.text_splitter import RecursiveCharacterTextSplitter"
   ]
  },
  {
   "cell_type": "code",
   "execution_count": 39,
   "metadata": {},
   "outputs": [],
   "source": [
    "text_loader_kwargs={'autodetect_encoding': True}\n",
    "loader = DirectoryLoader('./transcripts', glob=\"**/*.txt\", loader_cls=TextLoader, loader_kwargs=text_loader_kwargs)\n",
    "documents = loader.load()"
   ]
  },
  {
   "cell_type": "code",
   "execution_count": 40,
   "metadata": {},
   "outputs": [],
   "source": [
    "length_function = len\n",
    "\n",
    "# The default list of split characters is [\\n\\n, \\n, \" \", \"\"]\n",
    "# Tries to split on them in order until the chunks are small enough\n",
    "# Keep paragraphs, sentences, words together as long as possible\n",
    "splitter = RecursiveCharacterTextSplitter(\n",
    "    separators=[\"\\n\\n\", \"\\n\", \" \", \"\"],\n",
    "    chunk_size=1000, \n",
    "    chunk_overlap=100,\n",
    "    length_function=length_function,\n",
    ")\n",
    "\n",
    "docs = splitter.split_documents(documents)"
   ]
  },
  {
   "cell_type": "markdown",
   "metadata": {},
   "source": [
    "## Text embedding using OpenAI API & storing embeddings to Pinecone."
   ]
  },
  {
   "cell_type": "code",
   "execution_count": 41,
   "metadata": {},
   "outputs": [],
   "source": [
    "from langchain.embeddings.openai import OpenAIEmbeddings\n",
    "from langchain.vectorstores import Pinecone\n",
    "import pinecone"
   ]
  },
  {
   "cell_type": "code",
   "execution_count": 42,
   "metadata": {},
   "outputs": [],
   "source": [
    "embeddings = OpenAIEmbeddings()"
   ]
  },
  {
   "cell_type": "code",
   "execution_count": 43,
   "metadata": {},
   "outputs": [],
   "source": [
    "# initialize pinecone\n",
    "pinecone.init(\n",
    "    api_key=os.getenv(\"PINECONE_API_KEY\"),  # find at app.pinecone.io\n",
    "    environment=os.getenv(\"PINECONE_ENV\"),  # next to api key in console\n",
    ")\n",
    "\n",
    "index_name = \"aichatbot-alex\"\n",
    "\n",
    "# First, check if our index already exists. If it doesn't, we create it\n",
    "if index_name not in pinecone.list_indexes():\n",
    "    # we create a new index\n",
    "    pinecone.create_index(\n",
    "      name=index_name,\n",
    "      metric='cosine',\n",
    "      dimension=1536  \n",
    ")"
   ]
  },
  {
   "cell_type": "code",
   "execution_count": 44,
   "metadata": {},
   "outputs": [],
   "source": [
    "# The OpenAI embedding model `text-embedding-ada-002 uses 1536 dimensions`\n",
    "docsearch = Pinecone.from_documents(docs, embeddings, index_name=index_name)"
   ]
  },
  {
   "cell_type": "markdown",
   "metadata": {},
   "source": [
    "## Testing database: QA."
   ]
  },
  {
   "cell_type": "code",
   "execution_count": 45,
   "metadata": {},
   "outputs": [],
   "source": [
    "index_name = \"aichatbot-alex\"\n",
    "embeddings = OpenAIEmbeddings()\n",
    "\n",
    "docsearch = Pinecone.from_existing_index(index_name, embeddings)"
   ]
  },
  {
   "cell_type": "code",
   "execution_count": 46,
   "metadata": {},
   "outputs": [],
   "source": [
    "query = \"How to relax?\"\n",
    "docs = docsearch.similarity_search(query)"
   ]
  },
  {
   "cell_type": "code",
   "execution_count": 47,
   "metadata": {},
   "outputs": [
    {
     "name": "stdout",
     "output_type": "stream",
     "text": [
      "when you are sad, you want to not be sad. That's the main focus. You want to feel better. And many times people will take the short term way of getting out of that, which is alcohol, drugs, et cetera, because in the moment they can feel better. They just want to feel better. And I remember I had a coach who said that to me. She said, everyone just wants to feel better. And so when I think about things that I used to think people were wronging me, right? And I'll get all angry and I'd spit myself out. I use a different frame now, which is they just wanted to feel better. Do you think it had nothing to do with me and they just wanted to feel better about themselves? And that's given me a lot of peace about many of the things that used to anger me. And so I think that, at least for me, being able to quiet the hundreds of non-existent voices in my head that were constantly judging the activities that I was doing and labeling them good or bad or good enough or not good enough, et cetera,\n"
     ]
    }
   ],
   "source": [
    "print(docs[0].page_content)"
   ]
  },
  {
   "cell_type": "markdown",
   "metadata": {},
   "source": [
    "# Adding More Transcripts to an Existing Index"
   ]
  },
  {
   "cell_type": "markdown",
   "metadata": {},
   "source": [
    "## The following code will load and split to chunks all text files in a specified derictory."
   ]
  },
  {
   "cell_type": "code",
   "execution_count": 48,
   "metadata": {},
   "outputs": [],
   "source": [
    "from langchain.document_loaders import DirectoryLoader\n",
    "from langchain.document_loaders import TextLoader\n",
    "from langchain.text_splitter import RecursiveCharacterTextSplitter\n",
    "\n",
    "text_loader_kwargs={'autodetect_encoding': True}\n",
    "loader = DirectoryLoader('./transcripts2', glob=\"**/*.txt\", loader_cls=TextLoader, loader_kwargs=text_loader_kwargs)\n",
    "documents = loader.load()\n",
    "\n",
    "length_function = len\n",
    "\n",
    "# The default list of split characters is [\\n\\n, \\n, \" \", \"\"]\n",
    "# Tries to split on them in order until the chunks are small enough\n",
    "# Keep paragraphs, sentences, words together as long as possible\n",
    "splitter = RecursiveCharacterTextSplitter(\n",
    "    separators=[\"\\n\\n\", \"\\n\", \" \", \"\"],\n",
    "    chunk_size=1000, \n",
    "    chunk_overlap=100,\n",
    "    length_function=length_function,\n",
    ")\n",
    "\n",
    "docs = splitter.split_documents(documents)"
   ]
  },
  {
   "cell_type": "markdown",
   "metadata": {},
   "source": [
    "## Text embedding using OpenAI API & storing embeddings to Pinecone."
   ]
  },
  {
   "cell_type": "code",
   "execution_count": 50,
   "metadata": {},
   "outputs": [
    {
     "data": {
      "text/plain": [
       "['e736f6f8-fdeb-4ca8-b3a1-f3ae42a25ac4',\n",
       " 'a6e0eaad-169c-4ce1-892f-b8bf673a2f22',\n",
       " '63b107d7-1dd8-4913-9706-63962d249e8b',\n",
       " 'baf481a4-83de-45ab-92ad-b93dadf8f15d',\n",
       " '49f30bab-e740-4a84-be80-b67382bbaaf2',\n",
       " 'c6f74b8e-3f8c-47bf-a649-f5828f38d9d2',\n",
       " '2c75a62b-13fd-4ebe-bc34-913522572929',\n",
       " 'c3285c1c-97fc-48a9-9fa0-0939b6e42899',\n",
       " 'f6bd53c4-0a5f-4751-bd39-8a16b18acf9a',\n",
       " '9175c3d4-2663-4259-9972-f36aaa19d0b3',\n",
       " '5d9706e9-b107-4003-ab85-5e91738c5758',\n",
       " '354dc0d0-6264-4f90-8498-e330d3e887fb',\n",
       " '2ea0a78b-ef08-4ac3-a7f7-8ef9f9dfce44',\n",
       " '2e161183-9544-43b9-a1bf-ccbbe128a36f',\n",
       " '12279fd1-9f5d-495e-bb93-236145a15efc',\n",
       " 'f5fd4f15-3d1f-4f8f-9782-123eede34d87',\n",
       " 'c77b37bd-a692-43e4-9216-c49da487532b',\n",
       " '3c5fd65a-ce1d-4f89-8b25-86bc03007cb4',\n",
       " '5e05b229-bed9-4819-ab39-9058fafdb125',\n",
       " 'b0eca61e-f854-4974-bfef-3cdcf231d670',\n",
       " '1e913e00-b1ef-459f-bc17-cc0e37049de5',\n",
       " 'bb7d99ca-f4a7-439f-812f-541e9cd085b2',\n",
       " 'c6842d8f-09ae-4477-960d-543ac6a3dcf7',\n",
       " 'ff32ebe9-1d24-4308-be8c-0586bcf05fdf',\n",
       " '5c9dca93-51db-4ac3-98fa-2b83354c69ff',\n",
       " '3abff87f-ff5d-489a-af6d-3503ff8f193a',\n",
       " '376df308-e16f-490f-bd8e-5ba245b35212',\n",
       " 'f520f1a0-6a2e-49af-9cf4-b114eeb8289b',\n",
       " 'e86686d8-9bff-4bb7-8ed2-ccc73982a00b',\n",
       " 'c3787b33-28a2-48ed-9aea-4b3c34113371',\n",
       " 'a833f91c-1390-41a8-a23d-d4809de6f49a',\n",
       " '05cd4e56-f1b1-4534-a727-47a0d24b4c11',\n",
       " 'a660a3ae-4620-4d32-a684-9c2f76d9f3a8',\n",
       " '26a1c4c1-46b0-4ddd-98af-99190aaafa7b',\n",
       " 'ba2a750e-1dc1-4b60-b166-3608c04fbbf5',\n",
       " '5e51e12c-0669-4caa-af76-2937c0b3c502',\n",
       " 'ab64c655-00b8-40a2-beb1-49161ef64822',\n",
       " '408999d4-af26-408b-99a4-f29aaf478e62',\n",
       " '0c28bed7-d219-4113-a90b-80f25c57cd1b',\n",
       " '5b027b80-d975-4ddd-bce8-fc407387b381',\n",
       " '87d5b258-1378-426a-bd03-845e428bc970',\n",
       " '5ab71018-072b-486a-8166-ee4ac4f95789',\n",
       " '69ab961b-1dc5-4bd0-8417-04bb0e417a82',\n",
       " '9e58de6d-a382-4441-9e35-f2c18c84703e',\n",
       " '85efc637-5817-4269-af7d-43c96bbb025f',\n",
       " 'eb3161a7-9a84-4985-a8e7-943824504a83',\n",
       " 'e843e0d3-7f67-4502-8151-337570b2338f',\n",
       " 'f8b94b25-6b91-499e-bb59-ce855669205e',\n",
       " '05ea3c57-46ba-4c22-94c8-95a4322f1413',\n",
       " '1c883f5c-444c-4dab-8205-205a85f09721',\n",
       " 'e67feb25-24a5-4d59-ba67-0877fa774430',\n",
       " '68ccf68a-4e6f-449d-934a-7611cfbbffbe',\n",
       " 'cc3ba9ef-0ad3-4a2b-b66e-c9ce8f0b084a',\n",
       " '26973075-af85-400d-8f4b-1f31e5c5688c',\n",
       " '123a0735-2b85-4790-9511-399a0300cc8b',\n",
       " 'b30e34e3-21f4-4943-b068-3f695caa552c',\n",
       " 'e9b53db4-e2aa-4899-a359-d98751cf3428',\n",
       " 'd765a206-cbae-4cfb-a3d4-38ae6cb07e0a',\n",
       " '99ae8a75-b06b-4d77-944c-0063f3064d58',\n",
       " '3bc2128b-70c1-4e7c-9de6-4879fbc07ec5',\n",
       " '9df59b76-7038-44fe-be2d-bbfba8d02033',\n",
       " '21341a79-f8db-487b-9ee0-236d57e2d750',\n",
       " 'a5c1674b-9e53-4d75-87c9-75dbb94568e0',\n",
       " '68acc3ec-8ec0-4654-b0d0-430de218a2e7',\n",
       " 'd89a7f1b-c8d1-4028-b3c3-9789999d573d',\n",
       " '38d4348f-3c94-4cda-9664-a83c6ac17be2',\n",
       " '8586beea-3e9d-4a64-9d62-0471fa24cfb5',\n",
       " 'afadb20b-e06d-4026-973b-914c982b9e04',\n",
       " '4fd5c5ae-ee0b-4f39-a0fd-cafaf26651a0',\n",
       " '69da8d83-f9ff-4ccf-9761-79f203905cc7',\n",
       " 'aa625e1d-0c13-40d1-a10b-e5d5f5d50b9a',\n",
       " '28d34817-0487-4605-bbf7-fa1e7eef56fb',\n",
       " '1567b828-f118-4384-b423-e8dc9c1af88f',\n",
       " 'ea7295af-4d0b-4fa8-ad92-ec31dbd2736a',\n",
       " 'b24e088e-311b-4ce2-8663-55bc3eff80f3',\n",
       " '5708b7b8-bf20-42aa-b5f0-3838bdc43a92',\n",
       " '3c932751-2bac-4f2d-a409-f3d04a6ea9f7',\n",
       " '0c109486-c4c6-4c0a-bfec-373106f3bc61',\n",
       " '40c4b346-5e8f-4990-b2de-3178a4536c24',\n",
       " 'cfd019de-f066-4cca-b481-42c76ef3e83c',\n",
       " '4a9de852-2c74-4675-8fbb-1efd132f43cb',\n",
       " '8c246b32-66bb-4118-ab9a-ccb14701d59e',\n",
       " 'ceb812d5-f00c-4acb-a683-dc6d875b1c5a',\n",
       " '71bd881f-ef21-4e1f-aa09-35364468f8db',\n",
       " '2bbd48f2-d73d-4159-81aa-a708fe511d54',\n",
       " 'e8597e75-ab2b-4f0d-9b84-53e1886c2ac6',\n",
       " 'a05d66a3-42b0-4b63-a53a-051ec6661062',\n",
       " '91ab94c2-2d56-4b32-96c5-691af17eae1f',\n",
       " 'eccf32e4-1dd8-4537-979c-f5097ff1faea',\n",
       " '8c78cffc-9ab9-47cf-a886-275d62f089a1',\n",
       " 'faa69cf1-457c-4a00-ba11-98f6c06afce1',\n",
       " '94fb921a-60f2-4e84-8cc1-26583d1ca2c1',\n",
       " '09db2761-dbbe-41b3-8819-c07344181aa9',\n",
       " 'db9dae20-175e-4d64-9b05-aa63fd9b0240',\n",
       " '5e478a27-c13e-4937-8217-dcd9ef2de169',\n",
       " '066af3c9-dd25-4412-8f7d-714eb7703fe1',\n",
       " '7dd02594-6053-4ecc-8ca1-ce412fc41bf6',\n",
       " '2422eabf-c4c6-494d-a2fb-c047d2be6ae8',\n",
       " '7aca1390-d5e9-45e8-80dc-1d8026220a6a',\n",
       " '483a421f-fe2e-4e32-a012-8f2765ff7e47',\n",
       " 'a55679cd-5f15-4866-8cc8-572b92fb54e6',\n",
       " '08d2ecfc-9820-429a-a1ad-e05b18ca67af',\n",
       " '47fe8ecb-d6d7-44da-b941-f3c1cb255890',\n",
       " 'd3d11646-2b51-4d56-a206-4345a72c0ced',\n",
       " '45474638-855f-4300-9996-c7cc397ddb18',\n",
       " 'd76889e8-0d87-4070-97ce-c511507d2979',\n",
       " '90cd1423-f0a0-4fe9-bb48-5fcd030bd34a',\n",
       " '3e304302-94f4-44be-89ac-05667c601ec8',\n",
       " '12e8f494-a4c4-4a35-8600-676c889f6431',\n",
       " '52428d55-395f-4037-a825-e598fdd84eee',\n",
       " '887593e6-188c-4d7c-bc27-12ea56e273cb',\n",
       " '34085fbc-1edc-4a97-9ad4-3503107073db',\n",
       " 'a7b86ec8-688f-44a4-ab86-86fbf4119552',\n",
       " '367331d3-baf1-47c9-b0af-5ed3857542a6',\n",
       " 'c6f075aa-c54f-4b13-8ea1-78b693e9efe0',\n",
       " 'c31d400b-a6fe-4266-8c9f-0fa08be3c231',\n",
       " '71680452-378a-4e54-a47a-ab011449d2ac',\n",
       " '8dc642be-720a-45a5-85ec-0e3cd0574ccd',\n",
       " '9aa1ebf3-b7be-4204-a07f-d38a2053cbf6',\n",
       " 'd776e58a-996d-4a21-a886-ad472fa880e7',\n",
       " '231d2cc2-61e6-424b-b67e-761da4705831',\n",
       " '66bdd71a-4ded-4c0a-b027-4d51a72bf0f7',\n",
       " '75f6905d-4354-4f5d-b79c-3146c7cc167c',\n",
       " '5e55427c-05c2-4b56-8eb0-7b7592c81fce',\n",
       " '48e9b5a0-27fe-4819-95a6-6b3fd4b02109',\n",
       " 'edfe9d31-9099-45b8-bcc8-966e2f0c8f90',\n",
       " '6c7ef801-369f-4d69-9f37-fc1c3a40a69c',\n",
       " '708b5284-04c7-4c8b-ba5c-1e87d385cd68',\n",
       " 'd20fba7c-c710-496d-aac8-181f373fe3c8',\n",
       " 'fa641560-6804-4ac5-9d11-49d12a8bbd4e',\n",
       " 'b9fe324c-6097-4b28-8837-c27b5b7bdc0f',\n",
       " '8bd2aeff-4567-4e2e-af48-116d324e6c51',\n",
       " '77ab0c3e-1680-4f63-8ac5-38bde491f99b',\n",
       " 'f175bf9c-ee00-4015-a02c-12ffa8b792db',\n",
       " '30652dcb-dfc4-4d77-8540-fa5635376e77',\n",
       " '8cecb7cc-f86a-48ba-a595-c44dc82d76eb',\n",
       " '27d216f1-0d87-4374-b5db-0b2b3d72e138',\n",
       " 'e43a75a3-859a-4bf6-aa9f-467d97a073fe',\n",
       " '6844a459-6a4a-4b2b-8b28-e82010f5a625',\n",
       " '874aafe5-3f0e-4339-97e4-e21d1a90aa3b',\n",
       " '9b97b378-ddcf-4492-bbc7-6a81edd068d3',\n",
       " '67a55830-4c85-41e8-9dd4-35fe21638a7c',\n",
       " '465e67e4-7aaf-4167-bc4a-6ad66d4b19d4',\n",
       " '6f447bcb-1429-4cc3-82cb-3680687ba4ec',\n",
       " 'eecd5f8e-71f1-45bd-89a5-db2a20d4ab54',\n",
       " 'f6573add-9b06-40e5-ab88-fb433a3b8e14',\n",
       " '6f501b66-bc66-41fe-af69-088cf040b9fe',\n",
       " '78cbec25-5aa7-4eeb-8f15-40a2fc0467e5',\n",
       " '311e0612-280e-4bd9-8666-02abe3b3b997',\n",
       " '2ed42c05-979b-4d49-9c1b-ebeed98ff7f3',\n",
       " 'f21bf5c7-a87a-40bc-b15e-11afd4cd7302',\n",
       " '69c113e8-e697-4e97-a306-cd02ba96a43a',\n",
       " 'd3393600-1358-4db6-9ddb-fafbffaeddb6',\n",
       " 'ab2ffe3f-24c0-4ce4-8c79-c7652d4fb494',\n",
       " 'aa09f431-78e7-4ba5-9411-48f450b84fdc',\n",
       " '4649c13f-32dd-4720-a08e-165559e83410',\n",
       " '1f0d7525-8732-4cd8-84f6-e3b28344dec2',\n",
       " '4cc7364a-6719-46c3-b12a-ad5a5ec7f4b9',\n",
       " 'd53026ea-e4c8-4bfa-92b0-ab26faf00f58',\n",
       " 'f1d26c66-3664-4566-955b-3ac098840f75',\n",
       " '4b37fb11-c27f-4884-acb9-803ecc8ea375',\n",
       " 'e721f8a7-5eef-4be4-9fe9-49e9510c45dd',\n",
       " 'e7b59d3c-97d3-49b5-96d8-3a121834ab45',\n",
       " 'fdc486dc-cbc1-40ce-9502-2b3583fb6cd6',\n",
       " '46b01f7e-8524-486d-85d1-e84758f7773f',\n",
       " 'a47e6d26-22f3-498f-95f4-05bc3a990293',\n",
       " 'df24162f-7ab9-42ae-b94e-96e8fd39ee4b',\n",
       " '95b09186-2e7f-429a-b19d-235988e0a741',\n",
       " '42217c6b-b698-46b1-85f3-cf5aca4e7fe8',\n",
       " 'c74bcb5d-4fc8-4672-a8b1-569ee594230b',\n",
       " '29383042-7d8a-42fa-9571-2e8b7180b1a4',\n",
       " '028c417d-ba2c-4ce4-99e8-7c4e885644cc',\n",
       " 'b8c6ae88-e07c-491a-a67b-4262a4be88e3',\n",
       " 'd34864c0-3844-4660-b315-839fec053561',\n",
       " '5f7fa341-5c1f-4348-a9aa-6d9ef4fd51e9',\n",
       " '113b13f3-bfc5-42f4-a8ca-cb7199e58c62',\n",
       " 'e8417c06-a59a-487c-aff1-ea2d95109e04',\n",
       " 'f185cf38-ba2e-49e8-b8fa-60c4d2376c8c',\n",
       " 'f1b3285b-d241-4184-9e1c-57b4e4dccf6a',\n",
       " '90022192-5953-490b-a4eb-13eac1fc6a2c',\n",
       " '9d54a9bd-5d12-455d-addd-2a99e6a1e1e0',\n",
       " 'c813a080-dee5-4e7a-beb5-181a96db2d72',\n",
       " '4583ad1d-9784-4032-8128-7ac73bf1b02a',\n",
       " '04be55dc-0366-4413-a779-d0e62d4c4acd',\n",
       " '419e5f8e-6e6d-48b9-88d2-3d7b9885a386',\n",
       " '35d9643b-4754-4241-96a9-00b7290fbf80',\n",
       " 'b1be4fe2-f811-4e9b-917a-ffd1611d3c26',\n",
       " '5ef91c55-8959-44d3-b5e2-24653180d723',\n",
       " '113fca55-8fcd-4b3e-adb2-6f9737a1dba8',\n",
       " '6f08efc9-f843-4d5b-8ddb-1f266a0fe8b5',\n",
       " '69df7156-676a-4788-84ab-13e059e8b22b',\n",
       " '25cbbd31-6030-46e2-bc9b-265f6d6dfda2',\n",
       " '6f3ed9cd-e544-4299-8778-3a842ac32085',\n",
       " '27ec43df-4245-4787-9d49-8cd467781f38',\n",
       " 'fd02b49c-f630-4cf7-9649-844b23efdf40',\n",
       " 'b7838304-f305-4560-9df1-8fb3630e9a66',\n",
       " 'ed7d372d-c890-4ff2-9e68-e1a6fa0b673c',\n",
       " '56c647be-3ed8-48da-9728-040717c1be4e',\n",
       " 'ed027f54-1c82-4f06-a8da-0e19c1633708',\n",
       " 'eab4a1f9-fc19-4497-afb5-3600073f800b',\n",
       " 'fb1ae3a3-ba7e-4682-9e43-6d92ac482fa9',\n",
       " '966c08ec-3fd2-4fef-ab47-d335dd1fb227',\n",
       " 'e2168070-ce3c-428b-be6e-498646c123bb',\n",
       " '5363e079-fb5b-4797-be5b-05d9891fbac5',\n",
       " '82c6109e-4ad1-47a9-9ee0-34a16adf5e8e',\n",
       " '22f3d44a-53a5-415f-b2aa-ad872c96683b',\n",
       " '27f41e3b-695a-4ec9-a627-daa0538bc165',\n",
       " '87b0ae3b-d725-42b5-9e8c-cb9b4d68da39',\n",
       " '8a72aac8-019b-4e8c-b723-73be33151d90',\n",
       " '897af2df-ff63-4d66-94a5-281f6ce5a7b2',\n",
       " 'a1079855-6f86-4d89-ba02-2c53d207f0cd',\n",
       " '696456f2-dde3-4651-af10-9e2d70d679e2',\n",
       " '6f1f1e9e-f7c6-4d3c-bcda-cce5aa3a4ac8',\n",
       " 'dd2a93cc-2d3c-47f1-a415-c4973336b81a',\n",
       " '1ecd6b97-2f06-4991-9172-9c8c9f82e028',\n",
       " '7b232b97-4a88-4d72-971f-a218544a9154',\n",
       " '3746549c-e988-4883-9bc9-cab40ba81b11',\n",
       " '8367fdba-2aed-4cb1-be66-1aa0a7786fda',\n",
       " '098425fd-3068-4cf1-ac9c-778f77c3dd66',\n",
       " 'd0e8b22e-e48c-43f3-96a7-6ef9c65167ce',\n",
       " 'e36eab2b-b4bb-4ff1-8b7b-3f12443e58aa',\n",
       " '914d4371-d6cb-4b21-9535-7d5f142560f3',\n",
       " 'e2a58359-3226-491d-abac-31855beec32b',\n",
       " '2bb4b7e0-2e17-4777-b484-1eb4219462dc',\n",
       " '7cc83c0c-856a-456d-951e-1f4a4c8df438',\n",
       " 'c11bfb9f-45ba-421d-b637-fb006d30cdec',\n",
       " 'b0108970-cec8-4330-bdad-810d434c55f2',\n",
       " '34077178-54d1-4d9d-892e-b778473715bb',\n",
       " '09009c26-6620-4f5d-a618-e946ac4c4ab8',\n",
       " '2104299e-6465-4b42-a8e4-250c12b7f6e2',\n",
       " 'f185a4ec-86c4-4131-b69b-31d532315558',\n",
       " '0c8f5b12-ef7c-4d0e-8113-9aa178455800',\n",
       " 'a8a4e601-45a3-416a-892c-8ce35fa09ebc',\n",
       " '13a6d9d4-0f3a-4298-ad96-690f155ca14d',\n",
       " '9a3d9699-db3f-43f7-815c-725b025a37a6',\n",
       " '39a410d6-99d6-4f26-8882-afdb6fe7079f',\n",
       " 'c42e7912-8acb-43cf-97c1-0a702dce291f',\n",
       " 'faf5533a-46e6-4b90-ab6e-114921ceaa5b',\n",
       " 'cd892491-aa72-4ee0-b902-44aea5c484c2',\n",
       " 'cfdcd634-54fd-4bf8-aa4d-48a76ed2e830',\n",
       " 'a3e9f1a6-8692-4b56-a416-16782478b7c5',\n",
       " '9235147c-93e4-4541-a5ce-4fd135e53251',\n",
       " 'cab07737-75ce-4e59-a102-1aff7777aa40',\n",
       " 'a05419e7-a89d-4551-9d4b-fd74f9beda0b',\n",
       " '2029629d-0aca-4d34-9231-4ee69e67b827',\n",
       " '6c359015-1548-40f0-bb0e-8a0828dcdd35',\n",
       " 'bfd935d7-4700-424b-8906-970d7cd04e49',\n",
       " '242c51ba-1051-4fb4-a99f-4aa40c0c29aa',\n",
       " '1000160d-e85c-42b7-8a77-cd23dbac6489',\n",
       " 'b7077a13-954f-4935-bc0c-da64afb11755',\n",
       " '187896dc-e853-4e3e-a50a-3235b7ccb79e',\n",
       " '44d98f9c-578c-4da3-89ea-adbf5d13391e',\n",
       " '3dab0a0b-6aec-4b4e-9523-3693df12e59c',\n",
       " '483756ab-4b8b-43ca-b49b-fbc303761b52',\n",
       " '562b1553-0425-4a66-8ee6-ae5a164af873',\n",
       " '3db29778-a2aa-47fe-bfa3-49a86a3c739d',\n",
       " 'f935c7fa-2d58-401f-9a43-db0623aa2f3f',\n",
       " 'd2eb4d75-cb73-45e7-8e19-cd57b7c9d7c4',\n",
       " '28ddb2c0-a09c-4412-802e-d797a05b2d19',\n",
       " '1919cad1-a113-454e-9a8a-8fcdfec4dad0',\n",
       " 'a0e600ca-6fff-48ee-acfc-1a8748026c5c',\n",
       " '708b08f2-ed25-46a1-b48b-a53be410fcc1',\n",
       " '54eaf28b-7d45-4d9b-a7c3-21071f3d4596',\n",
       " '854fb527-427d-441a-aedb-6b72d2fbdc94',\n",
       " 'ecabf690-b33e-4a5e-8df3-db22cc39ca69',\n",
       " '7fa633d0-52f7-4c00-b9d7-fa80cdd45ab7',\n",
       " '36afead8-f78c-46b5-8cd5-47970f7229e3',\n",
       " '6844ef12-4fb3-4364-90c2-a5af286e8901',\n",
       " 'b560133a-bc89-4e8e-88ac-5f4d66a36972',\n",
       " 'cd97c2a6-9593-418b-8f97-f9d86fb7fd69',\n",
       " '429789d5-4b03-412b-ab1b-4946d867f525',\n",
       " 'c88661e8-7a24-4308-afa3-cb0818ad5905',\n",
       " '148f09e8-640c-4dee-b73e-ca1a149ce553',\n",
       " '2bcfc83e-4add-4c38-80f4-7ec810e88a85',\n",
       " '74b88ef4-4760-4b4b-aad8-cf4b1410f6c5',\n",
       " '21f4cc1c-c30b-4575-854b-5f21a3485889',\n",
       " 'fefaf7b0-42bb-4e5f-9263-eae127adbe42']"
      ]
     },
     "execution_count": 50,
     "metadata": {},
     "output_type": "execute_result"
    }
   ],
   "source": [
    "from langchain.embeddings.openai import OpenAIEmbeddings\n",
    "from langchain.vectorstores import Pinecone\n",
    "import pinecone\n",
    "\n",
    "embeddings = OpenAIEmbeddings()\n",
    "\n",
    "# initialize pinecone\n",
    "pinecone.init(\n",
    "    api_key=os.getenv(\"PINECONE_API_KEY\"),  # find at app.pinecone.io\n",
    "    environment=os.getenv(\"PINECONE_ENV\"),  # next to api key in console\n",
    ")\n",
    "\n",
    "index_name = \"aichatbot-alex\"\n",
    "\n",
    "vectorstore = Pinecone.from_existing_index(index_name, embeddings)\n",
    "\n",
    "vectorstore.add_documents(docs)"
   ]
  }
 ],
 "metadata": {
  "kernelspec": {
   "display_name": "Python 3 (ipykernel)",
   "language": "python",
   "name": "python3"
  },
  "language_info": {
   "codemirror_mode": {
    "name": "ipython",
    "version": 3
   },
   "file_extension": ".py",
   "mimetype": "text/x-python",
   "name": "python",
   "nbconvert_exporter": "python",
   "pygments_lexer": "ipython3",
   "version": "3.11.6"
  }
 },
 "nbformat": 4,
 "nbformat_minor": 4
}
